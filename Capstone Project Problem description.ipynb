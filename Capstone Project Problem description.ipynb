{
 "cells": [
  {
   "cell_type": "markdown",
   "metadata": {},
   "source": [
    "## Introduction to problem\n",
    "\n",
    "Bangalore, also known as Silicon City of India is a hub of 1.5M employees belonging to various IT and ITeS sector. Significant number of employees residing in various parts of bangalore are from various parts of the country. This also has created a hugh demand of rental properties in various Neighborhoods. This project would concentrate on the need to understand the rental market better and understand if average rental prices differ in various neigborhood and if yes then by how much. This analysis report would help owners understand the variables which impact the rental prices and for tenants this analysis would help them identify neighborhood according to their budgets and needs. Through this report, i would like to answer following questions:\n",
    "\n",
    "1. Which are the top neighborhoods in bangalore where supply of rental properties are large ?\n",
    "2. What are the ranges of rents in these neighborhood ?\n",
    "3. What are the top 10 venues in these locations ?\n",
    "4. Is there any relationship between sqft area, furnishings, no of bedrooms, bathroom, house facing on the rental prices ?\n",
    "6. which neighborhood are similar?\n",
    "\n",
    "## Data \n",
    "\n",
    "For this project and it's objective, I would require following data:\n",
    "\n",
    "1. Property Rental data for Bangalore City, India\n",
    "2. Geolocation data for different neighborhoods identified in the property rental data\n",
    "3. Major venues data in neighborhoods identified above. \n",
    "\n",
    "Data used for this project will be from the following sources:\n",
    "\n",
    "1. Makaan.com - Use beautifulsoup to scrap property listing data. Details required would be property rentals, Area Sqft, bedrooms, Bathrooms, Houre Facing details, furnishing etc.\n",
    "\n",
    "2. Use FourSquare places API to explore venues and venue categories. \n",
    "\n",
    "### Data Collection Process\n",
    "\n",
    "Step 1: The data was scraped from Makaan.com. All relevant data points were captured. Post collection, dataframe would be analyzed for any missing values, wrong addresses, incorrect entries. These will be cross checked and cleaned using Python/Excel tool .\n",
    "\n",
    "Step 2: Foursquare API\n",
    "\n",
    "For each identified neighborhood, geopy module to convert an address into latitude and longitude values. For each neighborhood’s coordinate, we will call FourSquare API to get the trending venues in that location.\n",
    "\n",
    "### Using data to solve the problem\n",
    "\n",
    "The objective of analyzing the property rentals data is to get a fair idea about the neighborhoods and variables which may impact the property rental prices. As bangalore has already seen a significant migration of employees from different parts of the country and it would be helpful if we can get a fair idea about the rental ranges, what kind of apartments are in good supply, which areas of the city are generating lots of property rental advertisements. Visualization, Cluster Analysis and basic regression would be used to derive insights and findings. \n",
    "\n"
   ]
  },
  {
   "cell_type": "code",
   "execution_count": null,
   "metadata": {},
   "outputs": [],
   "source": []
  }
 ],
 "metadata": {
  "kernelspec": {
   "display_name": "Python 3",
   "language": "python",
   "name": "python3"
  },
  "language_info": {
   "codemirror_mode": {
    "name": "ipython",
    "version": 3
   },
   "file_extension": ".py",
   "mimetype": "text/x-python",
   "name": "python",
   "nbconvert_exporter": "python",
   "pygments_lexer": "ipython3",
   "version": "3.7.6"
  }
 },
 "nbformat": 4,
 "nbformat_minor": 4
}
